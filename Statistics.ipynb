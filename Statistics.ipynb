{
  "nbformat": 4,
  "nbformat_minor": 0,
  "metadata": {
    "colab": {
      "provenance": [],
      "toc_visible": true,
      "include_colab_link": true
    },
    "kernelspec": {
      "name": "python3",
      "display_name": "Python 3"
    },
    "language_info": {
      "name": "python"
    }
  },
  "cells": [
    {
      "cell_type": "markdown",
      "metadata": {
        "id": "view-in-github",
        "colab_type": "text"
      },
      "source": [
        "<a href=\"https://colab.research.google.com/github/nikkijha97/Statistics/blob/main/Statistics.ipynb\" target=\"_parent\"><img src=\"https://colab.research.google.com/assets/colab-badge.svg\" alt=\"Open In Colab\"/></a>"
      ]
    },
    {
      "cell_type": "markdown",
      "source": [
        "STATISCS"
      ],
      "metadata": {
        "id": "zuN5S5QhG6E0"
      }
    },
    {
      "cell_type": "markdown",
      "source": [
        "# ***Basics***"
      ],
      "metadata": {
        "id": "Dacw2Ix_qay3"
      }
    },
    {
      "cell_type": "code",
      "source": [
        "data=[11,10,12,13,105,13,18,16,102,14,11,19,15,17,11,12,13,14,15,16,17,11,12,11,131,14,11,12,15,11,14,11,11,12,13,12]"
      ],
      "metadata": {
        "id": "smiUm76YG710"
      },
      "execution_count": 1,
      "outputs": []
    },
    {
      "cell_type": "code",
      "source": [
        "import numpy as np\n",
        "import pandas as pd\n",
        "import seaborn as sns\n",
        "import matplotlib.pyplot as plt\n",
        "%matplotlib inline"
      ],
      "metadata": {
        "id": "Zeekaa_wHPnw"
      },
      "execution_count": 10,
      "outputs": []
    },
    {
      "cell_type": "code",
      "source": [
        "mean=np.mean(data)"
      ],
      "metadata": {
        "id": "iPmoi1p0Haa4"
      },
      "execution_count": 3,
      "outputs": []
    },
    {
      "cell_type": "code",
      "source": [
        "print(mean)"
      ],
      "metadata": {
        "colab": {
          "base_uri": "https://localhost:8080/"
        },
        "id": "vpxr7d2NHmHi",
        "outputId": "fa257fc9-a349-4b92-e273-6089992902ac"
      },
      "execution_count": null,
      "outputs": [
        {
          "output_type": "stream",
          "name": "stdout",
          "text": [
            "32.93333333333333\n"
          ]
        }
      ]
    },
    {
      "cell_type": "code",
      "source": [
        "median=np.median(data)"
      ],
      "metadata": {
        "id": "WcEXhD_4HokR"
      },
      "execution_count": 4,
      "outputs": []
    },
    {
      "cell_type": "code",
      "source": [
        "print(median)"
      ],
      "metadata": {
        "colab": {
          "base_uri": "https://localhost:8080/"
        },
        "id": "VGuRXwWIID6m",
        "outputId": "d4b2f7f1-e2fc-4182-eed1-89360e8cba03"
      },
      "execution_count": null,
      "outputs": [
        {
          "output_type": "stream",
          "name": "stdout",
          "text": [
            "15.0\n"
          ]
        }
      ]
    },
    {
      "cell_type": "code",
      "source": [
        "variance=np.var(data)"
      ],
      "metadata": {
        "id": "PJPA-6k0xAbp"
      },
      "execution_count": 6,
      "outputs": []
    },
    {
      "cell_type": "code",
      "source": [
        "print(variance)"
      ],
      "metadata": {
        "colab": {
          "base_uri": "https://localhost:8080/"
        },
        "id": "4Wg_dnoQxA30",
        "outputId": "f3a01311-6fcb-4d01-c807-2b22a0e258d8"
      },
      "execution_count": 7,
      "outputs": [
        {
          "output_type": "stream",
          "name": "stdout",
          "text": [
            "774.1381172839507\n"
          ]
        }
      ]
    },
    {
      "cell_type": "code",
      "source": [
        "import math"
      ],
      "metadata": {
        "id": "rkGLuLoLyn4z"
      },
      "execution_count": 12,
      "outputs": []
    },
    {
      "cell_type": "code",
      "source": [
        "print (math.sqrt(variance))"
      ],
      "metadata": {
        "colab": {
          "base_uri": "https://localhost:8080/"
        },
        "id": "2mB5p6upxW6c",
        "outputId": "c4ff0289-6243-4fe0-ab6d-d7149284563a"
      },
      "execution_count": 15,
      "outputs": [
        {
          "output_type": "stream",
          "name": "stdout",
          "text": [
            "27.823337637385468\n"
          ]
        }
      ]
    },
    {
      "cell_type": "code",
      "source": [
        "std=np.std(data)"
      ],
      "metadata": {
        "id": "ykCnRjfpIJkC"
      },
      "execution_count": 16,
      "outputs": []
    },
    {
      "cell_type": "code",
      "source": [
        "print(std)"
      ],
      "metadata": {
        "colab": {
          "base_uri": "https://localhost:8080/"
        },
        "id": "vwjBnE8BIaqx",
        "outputId": "bf7798e1-c87d-4908-d751-417bb8e695e5"
      },
      "execution_count": 17,
      "outputs": [
        {
          "output_type": "stream",
          "name": "stdout",
          "text": [
            "27.823337637385468\n"
          ]
        }
      ]
    },
    {
      "cell_type": "markdown",
      "source": [
        "# GAUSSIAN DISTRIBUTION/NORMAL DISTRIBUTION"
      ],
      "metadata": {
        "id": "97b2u2o1uyOl"
      }
    },
    {
      "cell_type": "markdown",
      "source": [],
      "metadata": {
        "id": "AQOpoRSlvFTz"
      }
    },
    {
      "cell_type": "markdown",
      "source": [
        "# How to find Percentile\n"
      ],
      "metadata": {
        "id": "H9ucxqsAriCB"
      }
    },
    {
      "cell_type": "code",
      "source": [
        "q1,q2=np.percentile(data,[25,75])"
      ],
      "metadata": {
        "id": "ldwZRDbpryGJ"
      },
      "execution_count": null,
      "outputs": []
    },
    {
      "cell_type": "code",
      "source": [
        "print(q1,q2)"
      ],
      "metadata": {
        "colab": {
          "base_uri": "https://localhost:8080/"
        },
        "id": "u9CxD1d5tTxa",
        "outputId": "d3b6348a-e416-4e96-cc1a-01570e83aaac"
      },
      "execution_count": null,
      "outputs": [
        {
          "output_type": "stream",
          "name": "stdout",
          "text": [
            "11.0 15.25\n"
          ]
        }
      ]
    },
    {
      "cell_type": "code",
      "source": [
        "threshold=3"
      ],
      "metadata": {
        "id": "Y0j7dr9ktrLc"
      },
      "execution_count": null,
      "outputs": []
    },
    {
      "cell_type": "code",
      "source": [
        "if q1>threshold:\n",
        "  print('yes')"
      ],
      "metadata": {
        "colab": {
          "base_uri": "https://localhost:8080/"
        },
        "id": "UeyrI1sHtvM-",
        "outputId": "e12cf293-de34-4ec0-8a6c-01ea7eee89f0"
      },
      "execution_count": null,
      "outputs": [
        {
          "output_type": "stream",
          "name": "stdout",
          "text": [
            "yes\n"
          ]
        }
      ]
    },
    {
      "cell_type": "markdown",
      "source": [
        "# Z-Score to find the outliers\n",
        "\n",
        "Formula for Z score = (Observation — Mean)/Standard Deviation\n",
        "\n",
        "z = (X — μ) / σ"
      ],
      "metadata": {
        "id": "aD2CO6akIgOL"
      }
    },
    {
      "cell_type": "code",
      "source": [
        "outliers=[]\n",
        "def detect_outliers(data):\n",
        "  threshold=3  ## if it lieas in 3rd Standard deviation then not an outliers\n",
        "  mean=np.mean(data)\n",
        "  std=np.std(data)\n",
        "\n",
        "\n",
        "  for i in data:\n",
        "    z_score=(i-mean)/std\n",
        "    if np.abs(z_score)>threshold:\n",
        "       outliers.append(i)\n",
        "  return outliers\n"
      ],
      "metadata": {
        "id": "vNdVejgfIazZ"
      },
      "execution_count": null,
      "outputs": []
    },
    {
      "cell_type": "code",
      "source": [
        "outlier_pt=detect_outliers(data)"
      ],
      "metadata": {
        "id": "g9_d_WMoIa2S"
      },
      "execution_count": null,
      "outputs": []
    },
    {
      "cell_type": "code",
      "source": [
        "outlier_pt"
      ],
      "metadata": {
        "colab": {
          "base_uri": "https://localhost:8080/"
        },
        "id": "hrUUCphgIa6E",
        "outputId": "0cda8a67-8687-4a12-945e-cd2d9cb4ffb5"
      },
      "execution_count": null,
      "outputs": [
        {
          "output_type": "execute_result",
          "data": {
            "text/plain": [
              "[105, 131]"
            ]
          },
          "metadata": {},
          "execution_count": 11
        }
      ]
    },
    {
      "cell_type": "markdown",
      "source": [
        "# IQR"
      ],
      "metadata": {
        "id": "CmTXuI9utf6V"
      }
    },
    {
      "cell_type": "markdown",
      "source": [
        "InterQuantile Range\n",
        "75%- 25% values in a dataset\n",
        "\n",
        "Steps\n",
        "1. Arrange the data in increasing order\n",
        "2. Calculate first(q1) and third quartile(q3)\n",
        "3. Find interquartile range (q3-q1)\n",
        "4.Find lower bound q1*1.5\n",
        "5.Find upper bound q3*1.5\n",
        "Anything that lies outside of lower and upper bound is an outlier"
      ],
      "metadata": {
        "id": "63yh4dJnPeii"
      }
    },
    {
      "cell_type": "code",
      "source": [
        "sorted(data)"
      ],
      "metadata": {
        "colab": {
          "base_uri": "https://localhost:8080/"
        },
        "id": "aC2MlftfIHZI",
        "outputId": "130c315d-296d-4023-da7c-f134043406c0"
      },
      "execution_count": null,
      "outputs": [
        {
          "output_type": "execute_result",
          "data": {
            "text/plain": [
              "[10,\n",
              " 11,\n",
              " 11,\n",
              " 11,\n",
              " 11,\n",
              " 11,\n",
              " 11,\n",
              " 11,\n",
              " 11,\n",
              " 11,\n",
              " 12,\n",
              " 12,\n",
              " 12,\n",
              " 12,\n",
              " 12,\n",
              " 12,\n",
              " 13,\n",
              " 13,\n",
              " 13,\n",
              " 13,\n",
              " 14,\n",
              " 14,\n",
              " 14,\n",
              " 14,\n",
              " 15,\n",
              " 15,\n",
              " 15,\n",
              " 16,\n",
              " 16,\n",
              " 17,\n",
              " 17,\n",
              " 18,\n",
              " 19,\n",
              " 102,\n",
              " 105,\n",
              " 131]"
            ]
          },
          "metadata": {},
          "execution_count": 50
        }
      ]
    },
    {
      "cell_type": "code",
      "source": [
        "quartil1,quartil3=np.percentile(data,[25,75])"
      ],
      "metadata": {
        "id": "0mUQQFOYPz-d"
      },
      "execution_count": null,
      "outputs": []
    },
    {
      "cell_type": "code",
      "source": [
        "print(quartil1,quartil3)"
      ],
      "metadata": {
        "colab": {
          "base_uri": "https://localhost:8080/"
        },
        "id": "Br9DXjktQskN",
        "outputId": "b1677e5c-c22a-40bc-a3db-b82e85f9cea9"
      },
      "execution_count": null,
      "outputs": [
        {
          "output_type": "stream",
          "name": "stdout",
          "text": [
            "11.0 15.25\n"
          ]
        }
      ]
    },
    {
      "cell_type": "code",
      "source": [
        "## Find the IQR\n",
        "\n",
        "iqr_value=abs(quartil3-quartil1)\n",
        "print(iqr_value)"
      ],
      "metadata": {
        "colab": {
          "base_uri": "https://localhost:8080/"
        },
        "id": "E_GN1xe-Qsm-",
        "outputId": "e2d3e98d-347b-4dfd-c68d-ae6a9ea08b03"
      },
      "execution_count": null,
      "outputs": [
        {
          "output_type": "stream",
          "name": "stdout",
          "text": [
            "4.25\n"
          ]
        }
      ]
    },
    {
      "cell_type": "code",
      "source": [
        "## Find the lower bound value and the higher bound value\n",
        "\n",
        "lower_bound=quartil1-(1.5*iqr_value)\n",
        "\n",
        "upper_bound=quartil3+(1.5*iqr_value)"
      ],
      "metadata": {
        "id": "CiSjNKb_Qspe"
      },
      "execution_count": null,
      "outputs": []
    },
    {
      "cell_type": "code",
      "source": [
        "print(lower_bound,upper_bound)"
      ],
      "metadata": {
        "colab": {
          "base_uri": "https://localhost:8080/"
        },
        "id": "LiE4-qH1QssE",
        "outputId": "c0d2b190-b8e6-4f31-a7d0-d3c18a8f8d5e"
      },
      "execution_count": null,
      "outputs": [
        {
          "output_type": "stream",
          "name": "stdout",
          "text": [
            "4.625 21.625\n"
          ]
        }
      ]
    },
    {
      "cell_type": "markdown",
      "source": [
        "# New Section"
      ],
      "metadata": {
        "id": "S00RTVOUuQrU"
      }
    }
  ]
}